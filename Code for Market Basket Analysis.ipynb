{
 "cells": [
  {
   "cell_type": "code",
   "execution_count": 1,
   "id": "28a9522c-9f50-4452-ba3e-ce9888801331",
   "metadata": {},
   "outputs": [],
   "source": [
    "# Import necessary libraries\n",
    "import pandas as pd\n",
    "from mlxtend.frequent_patterns import apriori, association_rules"
   ]
  },
  {
   "cell_type": "code",
   "execution_count": 2,
   "id": "321158ae-822a-41b3-91ad-d3cb7f73fe3c",
   "metadata": {},
   "outputs": [],
   "source": [
    "# Load your dataset (update the path to your file)\n",
    "file_path = \"Electric_Vehicle_Population_Cleaned.csv\"\n",
    "ev_data = pd.read_csv(file_path)"
   ]
  },
  {
   "cell_type": "code",
   "execution_count": 3,
   "id": "c48ae7d2-47cd-4930-9528-39381b44e830",
   "metadata": {},
   "outputs": [],
   "source": [
    "# Step 1: Prepare Data for Basket Analysis\n",
    "# Combine 'Make' and 'Model' to simulate product transactions\n",
    "basket_data = ev_data[['Make', 'Model']].dropna()\n",
    "basket_data['Transaction'] = basket_data['Make'] + \" \" + basket_data['Model']"
   ]
  },
  {
   "cell_type": "code",
   "execution_count": 4,
   "id": "1a72bba3-780d-448d-ba1a-8ed8972cb11f",
   "metadata": {},
   "outputs": [],
   "source": [
    "# One-hot encode the data (create a sparse matrix)\n",
    "basket_pivot = (\n",
    "    basket_data.groupby('Transaction')\n",
    "    .size()\n",
    "    .reset_index(name='Count')\n",
    "    .pivot_table(index=None, columns='Transaction', aggfunc='size', fill_value=0)\n",
    ")"
   ]
  },
  {
   "cell_type": "code",
   "execution_count": 5,
   "id": "44ddcc1f-33d2-4879-9aa5-956ca066b6cb",
   "metadata": {},
   "outputs": [
    {
     "name": "stdout",
     "output_type": "stream",
     "text": [
      "<class 'pandas.core.series.Series'>\n",
      "Index: 139 entries, ALFA ROMEO TONALE to WHEEGO ELECTRIC CARS WHEEGO\n",
      "Series name: None\n",
      "Non-Null Count  Dtype\n",
      "--------------  -----\n",
      "139 non-null    int64\n",
      "dtypes: int64(1)\n",
      "memory usage: 2.2+ KB\n",
      "None\n",
      "Transaction\n",
      "ALFA ROMEO TONALE    1\n",
      "AUDI A3              1\n",
      "AUDI A7              1\n",
      "AUDI A8 E            1\n",
      "AUDI E-TRON          1\n",
      "dtype: int64\n"
     ]
    }
   ],
   "source": [
    "print(basket_pivot.info())  \n",
    "print(basket_pivot.head())"
   ]
  },
  {
   "cell_type": "code",
   "execution_count": 6,
   "id": "d159ae0f-afdc-4199-97a3-16083ff6e8ba",
   "metadata": {},
   "outputs": [],
   "source": [
    "# Step 1: Create a transaction format using one-hot encoding\n",
    "basket_data = ev_data[['Make', 'Model']].dropna()\n",
    "basket_data['Transaction'] = basket_data['Make'] + \" \" + basket_data['Model']"
   ]
  },
  {
   "cell_type": "code",
   "execution_count": 7,
   "id": "ee7a8fe3-c8de-421e-ae15-6fdf12d954ed",
   "metadata": {},
   "outputs": [],
   "source": [
    "# Create a binary matrix: Rows = Transactions, Columns = Items (One-hot encoding)\n",
    "basket_binary = (\n",
    "    pd.crosstab(index=basket_data['Transaction'], columns=basket_data['Model'])\n",
    "    .astype(bool)\n",
    ")"
   ]
  },
  {
   "cell_type": "code",
   "execution_count": 8,
   "id": "0a1d4ea4-8828-4f62-bde1-9dddb1656f5d",
   "metadata": {},
   "outputs": [],
   "source": [
    "# Step 2: Apply Apriori Algorithm\n",
    "frequent_itemsets = apriori(basket_binary, min_support=0.01, use_colnames=True)"
   ]
  },
  {
   "cell_type": "code",
   "execution_count": 9,
   "id": "9e7e086c-2b3d-4a44-86fa-4a95b5fc0942",
   "metadata": {},
   "outputs": [
    {
     "name": "stdout",
     "output_type": "stream",
     "text": [
      "Empty DataFrame\n",
      "Columns: [support, itemsets]\n",
      "Index: []\n"
     ]
    }
   ],
   "source": [
    "# Debug: Check if frequent itemsets were generated\n",
    "print(frequent_itemsets.head())  # This will show the top frequent itemsets"
   ]
  },
  {
   "cell_type": "code",
   "execution_count": 10,
   "id": "8b5f7a35-730c-4be0-a904-771249ce7a0f",
   "metadata": {},
   "outputs": [
    {
     "name": "stdout",
     "output_type": "stream",
     "text": [
      "Empty DataFrame\n",
      "Columns: [support, itemsets]\n",
      "Index: []\n"
     ]
    }
   ],
   "source": [
    "print(frequent_itemsets.head())"
   ]
  },
  {
   "cell_type": "code",
   "execution_count": 11,
   "id": "f7f57364-f35f-4669-a922-7dcda94255e4",
   "metadata": {},
   "outputs": [
    {
     "ename": "TypeError",
     "evalue": "association_rules() missing 1 required positional argument: 'num_itemsets'",
     "output_type": "error",
     "traceback": [
      "\u001b[1;31m---------------------------------------------------------------------------\u001b[0m",
      "\u001b[1;31mTypeError\u001b[0m                                 Traceback (most recent call last)",
      "Cell \u001b[1;32mIn[11], line 2\u001b[0m\n\u001b[0;32m      1\u001b[0m \u001b[38;5;66;03m# Step 3: Generate Association Rules\u001b[39;00m\n\u001b[1;32m----> 2\u001b[0m rules \u001b[38;5;241m=\u001b[39m association_rules(frequent_itemsets, metric\u001b[38;5;241m=\u001b[39m\u001b[38;5;124m\"\u001b[39m\u001b[38;5;124mlift\u001b[39m\u001b[38;5;124m\"\u001b[39m, min_threshold\u001b[38;5;241m=\u001b[39m\u001b[38;5;241m1.0\u001b[39m)\n",
      "\u001b[1;31mTypeError\u001b[0m: association_rules() missing 1 required positional argument: 'num_itemsets'"
     ]
    }
   ],
   "source": [
    "# Step 3: Generate Association Rules\n",
    "rules = association_rules(frequent_itemsets, metric=\"lift\", min_threshold=1.0)"
   ]
  },
  {
   "cell_type": "code",
   "execution_count": 13,
   "id": "3a76aebb-6ea2-41e7-bf12-236fe998082f",
   "metadata": {},
   "outputs": [
    {
     "name": "stderr",
     "output_type": "stream",
     "text": [
      "C:\\Users\\hp\\anaconda3\\Lib\\site-packages\\executing\\executing.py:713: DeprecationWarning: ast.Str is deprecated and will be removed in Python 3.14; use ast.Constant instead\n",
      "  right=ast.Str(s=sentinel),\n",
      "C:\\Users\\hp\\anaconda3\\Lib\\site-packages\\executing\\executing.py:713: DeprecationWarning: ast.Str is deprecated and will be removed in Python 3.14; use ast.Constant instead\n",
      "  right=ast.Str(s=sentinel),\n",
      "C:\\Users\\hp\\anaconda3\\Lib\\ast.py:587: DeprecationWarning: Attribute s is deprecated and will be removed in Python 3.14; use value instead\n",
      "  return Constant(*args, **kwargs)\n",
      "C:\\Users\\hp\\anaconda3\\Lib\\site-packages\\executing\\executing.py:713: DeprecationWarning: ast.Str is deprecated and will be removed in Python 3.14; use ast.Constant instead\n",
      "  right=ast.Str(s=sentinel),\n",
      "C:\\Users\\hp\\anaconda3\\Lib\\ast.py:587: DeprecationWarning: Attribute s is deprecated and will be removed in Python 3.14; use value instead\n",
      "  return Constant(*args, **kwargs)\n"
     ]
    },
    {
     "ename": "NameError",
     "evalue": "name 'rules' is not defined",
     "output_type": "error",
     "traceback": [
      "\u001b[1;31m---------------------------------------------------------------------------\u001b[0m",
      "\u001b[1;31mNameError\u001b[0m                                 Traceback (most recent call last)",
      "Cell \u001b[1;32mIn[13], line 2\u001b[0m\n\u001b[0;32m      1\u001b[0m \u001b[38;5;66;03m# Sort and display rules\u001b[39;00m\n\u001b[1;32m----> 2\u001b[0m rules_sorted \u001b[38;5;241m=\u001b[39m rules\u001b[38;5;241m.\u001b[39msort_values(by\u001b[38;5;241m=\u001b[39m[\u001b[38;5;124m'\u001b[39m\u001b[38;5;124mconfidence\u001b[39m\u001b[38;5;124m'\u001b[39m, \u001b[38;5;124m'\u001b[39m\u001b[38;5;124mlift\u001b[39m\u001b[38;5;124m'\u001b[39m], ascending\u001b[38;5;241m=\u001b[39m\u001b[38;5;28;01mFalse\u001b[39;00m)\n",
      "\u001b[1;31mNameError\u001b[0m: name 'rules' is not defined"
     ]
    }
   ],
   "source": [
    "# Sort and display rules\n",
    "rules_sorted = rules.sort_values(by=['confidence', 'lift'], ascending=False)"
   ]
  },
  {
   "cell_type": "code",
   "execution_count": 15,
   "id": "ceac2e31-0eaa-48e3-8060-0c38ab808a22",
   "metadata": {},
   "outputs": [
    {
     "name": "stderr",
     "output_type": "stream",
     "text": [
      "C:\\Users\\hp\\anaconda3\\Lib\\site-packages\\executing\\executing.py:713: DeprecationWarning: ast.Str is deprecated and will be removed in Python 3.14; use ast.Constant instead\n",
      "  right=ast.Str(s=sentinel),\n",
      "C:\\Users\\hp\\anaconda3\\Lib\\ast.py:587: DeprecationWarning: Attribute s is deprecated and will be removed in Python 3.14; use value instead\n",
      "  return Constant(*args, **kwargs)\n",
      "C:\\Users\\hp\\anaconda3\\Lib\\site-packages\\executing\\executing.py:713: DeprecationWarning: ast.Str is deprecated and will be removed in Python 3.14; use ast.Constant instead\n",
      "  right=ast.Str(s=sentinel),\n",
      "C:\\Users\\hp\\anaconda3\\Lib\\ast.py:587: DeprecationWarning: Attribute s is deprecated and will be removed in Python 3.14; use value instead\n",
      "  return Constant(*args, **kwargs)\n"
     ]
    },
    {
     "ename": "NameError",
     "evalue": "name 'rules_sorted' is not defined",
     "output_type": "error",
     "traceback": [
      "\u001b[1;31m---------------------------------------------------------------------------\u001b[0m",
      "\u001b[1;31mNameError\u001b[0m                                 Traceback (most recent call last)",
      "Cell \u001b[1;32mIn[15], line 2\u001b[0m\n\u001b[0;32m      1\u001b[0m \u001b[38;5;66;03m# Save results to a CSV file and display the top rules\u001b[39;00m\n\u001b[1;32m----> 2\u001b[0m rules_sorted\u001b[38;5;241m.\u001b[39mto_csv(\u001b[38;5;124m\"\u001b[39m\u001b[38;5;124massociation_rules.csv\u001b[39m\u001b[38;5;124m\"\u001b[39m, index\u001b[38;5;241m=\u001b[39m\u001b[38;5;28;01mFalse\u001b[39;00m)\n\u001b[0;32m      3\u001b[0m \u001b[38;5;28mprint\u001b[39m(rules_sorted\u001b[38;5;241m.\u001b[39mhead())\n",
      "\u001b[1;31mNameError\u001b[0m: name 'rules_sorted' is not defined"
     ]
    }
   ],
   "source": [
    "# Save results to a CSV file and display the top rules\n",
    "rules_sorted.to_csv(\"association_rules.csv\", index=False)\n",
    "print(rules_sorted.head())"
   ]
  },
  {
   "cell_type": "code",
   "execution_count": null,
   "id": "22407e4c-de5d-44d1-8584-3f4733d1d13a",
   "metadata": {},
   "outputs": [],
   "source": []
  }
 ],
 "metadata": {
  "kernelspec": {
   "display_name": "Python 3 (ipykernel)",
   "language": "python",
   "name": "python3"
  },
  "language_info": {
   "codemirror_mode": {
    "name": "ipython",
    "version": 3
   },
   "file_extension": ".py",
   "mimetype": "text/x-python",
   "name": "python",
   "nbconvert_exporter": "python",
   "pygments_lexer": "ipython3",
   "version": "3.12.4"
  }
 },
 "nbformat": 4,
 "nbformat_minor": 5
}
